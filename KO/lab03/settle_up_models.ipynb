{
 "cells": [
  {
   "cell_type": "markdown",
   "metadata": {},
   "source": [
    "This notebook features some variants of models that can be used to solve Settle up problem (Dluznicek)."
   ]
  },
  {
   "cell_type": "code",
   "execution_count": 396,
   "metadata": {},
   "outputs": [],
   "source": [
    "import gurobipy as g"
   ]
  },
  {
   "cell_type": "markdown",
   "metadata": {},
   "source": [
    "Lets define some input parameters..."
   ]
  },
  {
   "cell_type": "code",
   "execution_count": 397,
   "metadata": {},
   "outputs": [],
   "source": [
    "P = set(['A', 'B', 'N', 'J'])\n",
    "c = {'A': 0, 'B': 590, 'N': 110, 'J': 300}\n",
    "s = sum(c.values())/4"
   ]
  },
  {
   "cell_type": "markdown",
   "metadata": {},
   "source": [
    "Let us first demonstrate the \"basic\" variant - the one we did in labs"
   ]
  },
  {
   "cell_type": "code",
   "execution_count": 398,
   "metadata": {},
   "outputs": [],
   "source": [
    "model = g.Model()"
   ]
  },
  {
   "cell_type": "code",
   "execution_count": 399,
   "metadata": {},
   "outputs": [],
   "source": [
    "f = {}\n",
    "k = {}\n",
    "for i in P:\n",
    "    for j in P:\n",
    "        f[i, j] = model.addVar(vtype=g.GRB.BINARY, obj=1)\n",
    "        k[i, j] = model.addVar(vtype=g.GRB.INTEGER, lb=0)"
   ]
  },
  {
   "cell_type": "code",
   "execution_count": 400,
   "metadata": {},
   "outputs": [],
   "source": [
    "for p in P:\n",
    "    model.addConstr(g.quicksum(k[p, q] for q in P) + c[p] - g.quicksum(k[q, p] for q in P) == s)"
   ]
  },
  {
   "cell_type": "markdown",
   "metadata": {},
   "source": [
    "Now, we want to ensure constraint if k[i, j] != 0 then f[i, j] =1"
   ]
  },
  {
   "cell_type": "code",
   "execution_count": 401,
   "metadata": {},
   "outputs": [],
   "source": [
    "M = sum(c.values())\n",
    "for i in P:\n",
    "    for j in P:\n",
    "        model.addConstr(M*f[i, j] >= k[i, j])"
   ]
  },
  {
   "cell_type": "markdown",
   "metadata": {},
   "source": [
    "Next, we add the other implication: if f[i, j] = 1 then k[i, j] != 0. Note that this constraint is redundant, considering the sense of optimization. Try to take it out by yourself and see if the result changes..."
   ]
  },
  {
   "cell_type": "code",
   "execution_count": 402,
   "metadata": {},
   "outputs": [],
   "source": [
    "for i in P:\n",
    "    for j in P:\n",
    "        model.addConstr(k[i, j] >= f[i, j])"
   ]
  },
  {
   "cell_type": "markdown",
   "metadata": {},
   "source": [
    "The above is correct only if we allow trasactions to take only integer values. With \"continuous\" case we will deal below. "
   ]
  },
  {
   "cell_type": "code",
   "execution_count": 403,
   "metadata": {},
   "outputs": [
    {
     "name": "stdout",
     "output_type": "stream",
     "text": [
      "Gurobi Optimizer version 9.0.0 build v9.0.0rc2 (mac64)\n",
      "Optimize a model with 36 rows, 32 columns and 88 nonzeros\n",
      "Model fingerprint: 0x3a664b36\n",
      "Variable types: 0 continuous, 32 integer (16 binary)\n",
      "Coefficient statistics:\n",
      "  Matrix range     [1e+00, 1e+03]\n",
      "  Objective range  [1e+00, 1e+00]\n",
      "  Bounds range     [1e+00, 1e+00]\n",
      "  RHS range        [5e+01, 3e+02]\n",
      "Found heuristic solution: objective 3.0000000\n",
      "Presolve removed 8 rows and 8 columns\n",
      "Presolve time: 0.00s\n",
      "Presolved: 28 rows, 24 columns, 72 nonzeros\n",
      "Variable types: 0 continuous, 24 integer (12 binary)\n",
      "\n",
      "Root relaxation: objective 3.900000e-01, 12 iterations, 0.00 seconds\n",
      "\n",
      "    Nodes    |    Current Node    |     Objective Bounds      |     Work\n",
      " Expl Unexpl |  Obj  Depth IntInf | Incumbent    BestBd   Gap | It/Node Time\n",
      "\n",
      "     0     0    0.39000    0    3    3.00000    0.39000  87.0%     -    0s\n",
      "     0     0     cutoff    0         3.00000    3.00000  0.00%     -    0s\n",
      "\n",
      "Cutting planes:\n",
      "  Gomory: 1\n",
      "  MIR: 4\n",
      "  Flow cover: 9\n",
      "  Flow path: 1\n",
      "  Relax-and-lift: 2\n",
      "\n",
      "Explored 1 nodes (21 simplex iterations) in 0.01 seconds\n",
      "Thread count was 12 (of 12 available processors)\n",
      "\n",
      "Solution count 1: 3 \n",
      "\n",
      "Optimal solution found (tolerance 1.00e-04)\n",
      "Best objective 3.000000000000e+00, best bound 3.000000000000e+00, gap 0.0000%\n"
     ]
    }
   ],
   "source": [
    "model.optimize()"
   ]
  },
  {
   "cell_type": "markdown",
   "metadata": {},
   "source": [
    "This is the solution and let us see the individual transactions..."
   ]
  },
  {
   "cell_type": "code",
   "execution_count": 404,
   "metadata": {},
   "outputs": [
    {
     "name": "stdout",
     "output_type": "stream",
     "text": [
      "N -> B sends 140.0\n",
      "A -> J sends 50.0\n",
      "A -> B sends 200.0\n"
     ]
    }
   ],
   "source": [
    "for i in P:\n",
    "    for j in P:\n",
    "        if f[i, j].x > 0.5:\n",
    "            print('{} -> {} sends {}'.format(i, j, k[i, j].x))"
   ]
  },
  {
   "cell_type": "markdown",
   "metadata": {},
   "source": [
    "**Model with continuous transaction values**"
   ]
  },
  {
   "cell_type": "code",
   "execution_count": 1,
   "metadata": {},
   "outputs": [],
   "source": [
    "P = set(['A', 'B', 'N'])\n",
    "c = {'A': 0, 'B': 590, 'N': 110}\n",
    "s = sum(c.values())/3"
   ]
  },
  {
   "cell_type": "markdown",
   "metadata": {},
   "source": [
    "See, now the settement value is not an integer, hence it might be necessary to consider non-integer transaction values, and maybe even transactions below 1! However, note that we do not have to consider arbitrarly precise settlement values:"
   ]
  },
  {
   "cell_type": "code",
   "execution_count": 2,
   "metadata": {},
   "outputs": [
    {
     "data": {
      "text/plain": [
       "233.33333333333334"
      ]
     },
     "execution_count": 2,
     "metadata": {},
     "output_type": "execute_result"
    }
   ],
   "source": [
    "s"
   ]
  },
  {
   "cell_type": "markdown",
   "metadata": {},
   "source": [
    "How would one pay **precisely** such amount? Hence, in practice we need to restrict ourselves on the finite precision, e.g., cents:"
   ]
  },
  {
   "cell_type": "code",
   "execution_count": 3,
   "metadata": {},
   "outputs": [
    {
     "data": {
      "text/plain": [
       "233.33"
      ]
     },
     "execution_count": 3,
     "metadata": {},
     "output_type": "execute_result"
    }
   ],
   "source": [
    "s = round(s*100)/100\n",
    "s"
   ]
  },
  {
   "cell_type": "markdown",
   "metadata": {},
   "source": [
    "Also, this is not enough as well. Consider A paying 233.33 to B and N paying 123.33 to B. Then, B payed in total 233.34... (and not 233.33). Hence, this introduces unforseen problems. Hence, we will require that each party atendee spends *approximately* the requested amount (up to given precision)"
   ]
  },
  {
   "cell_type": "code",
   "execution_count": 430,
   "metadata": {},
   "outputs": [],
   "source": [
    "model = g.Model()"
   ]
  },
  {
   "cell_type": "code",
   "execution_count": 431,
   "metadata": {},
   "outputs": [],
   "source": [
    "f = {}\n",
    "k = {}\n",
    "for i in P:\n",
    "    for j in P:\n",
    "        f[i, j] = model.addVar(vtype=g.GRB.BINARY, obj=1)\n",
    "        k[i, j] = model.addVar(vtype=g.GRB.CONTINUOUS, lb=0)   # now the type of \"flow\" variable k is a non-negative real"
   ]
  },
  {
   "cell_type": "markdown",
   "metadata": {},
   "source": [
    "The ballance constraints are now given as follows (the payed amount witin s +- 1/100):"
   ]
  },
  {
   "cell_type": "code",
   "execution_count": 432,
   "metadata": {},
   "outputs": [],
   "source": [
    "for p in P:\n",
    "    model.addConstr(g.quicksum(k[p, q] for q in P) + \n",
    "                    round(c[p]*100)/100 - g.quicksum(k[q, p] for q in P) <= s + 1/100)\n",
    "    model.addConstr(g.quicksum(k[p, q] for q in P) + \n",
    "                    round(c[p]*100)/100 - g.quicksum(k[q, p] for q in P) >= s - 1/100)"
   ]
  },
  {
   "cell_type": "markdown",
   "metadata": {},
   "source": [
    "As well as the first implication:"
   ]
  },
  {
   "cell_type": "code",
   "execution_count": 433,
   "metadata": {},
   "outputs": [],
   "source": [
    "M = sum(c.values())\n",
    "for i in P:\n",
    "    for j in P:\n",
    "        model.addConstr(M*f[i, j] >= k[i, j])"
   ]
  },
  {
   "cell_type": "markdown",
   "metadata": {},
   "source": [
    "Next, we add the other implication: if f[i, j] = 1 then k[i, j] != 0. It still holds that this constraint is redundant. However, as an exercise we will formulate it. In the continuous case, it is important to reason about what might be the smallest transaction..."
   ]
  },
  {
   "cell_type": "markdown",
   "metadata": {},
   "source": [
    "After a bit of reasoning, it emerges that it suffice to consider transactions greater or equal to:"
   ]
  },
  {
   "cell_type": "code",
   "execution_count": 434,
   "metadata": {},
   "outputs": [
    {
     "data": {
      "text/plain": [
       "0.01"
      ]
     },
     "execution_count": 434,
     "metadata": {},
     "output_type": "execute_result"
    }
   ],
   "source": [
    "M_small = 1/100\n",
    "M_small"
   ]
  },
  {
   "cell_type": "markdown",
   "metadata": {},
   "source": [
    "The other constraint is (if f[i,j] is 1, then k[i,j] != 0 which in the considered precision is equivalent to k[i,j]>=M_small):"
   ]
  },
  {
   "cell_type": "code",
   "execution_count": 435,
   "metadata": {},
   "outputs": [],
   "source": [
    "for i in P:\n",
    "    for j in P:\n",
    "        model.addConstr(k[i, j] >= M_small*f[i, j])"
   ]
  },
  {
   "cell_type": "code",
   "execution_count": 414,
   "metadata": {},
   "outputs": [
    {
     "name": "stdout",
     "output_type": "stream",
     "text": [
      "Gurobi Optimizer version 9.0.0 build v9.0.0rc2 (mac64)\n",
      "Optimize a model with 24 rows, 18 columns and 60 nonzeros\n",
      "Model fingerprint: 0xeebba81e\n",
      "Variable types: 9 continuous, 9 integer (9 binary)\n",
      "Coefficient statistics:\n",
      "  Matrix range     [1e-02, 7e+02]\n",
      "  Objective range  [1e+00, 1e+00]\n",
      "  Bounds range     [1e+00, 1e+00]\n",
      "  RHS range        [1e+02, 4e+02]\n",
      "Presolve removed 6 rows and 6 columns\n",
      "Presolve time: 0.00s\n",
      "Presolved: 18 rows, 12 columns, 52 nonzeros\n",
      "Variable types: 6 continuous, 6 integer (6 binary)\n",
      "Found heuristic solution: objective 2.0000000\n",
      "\n",
      "Root relaxation: cutoff, 10 iterations, 0.00 seconds\n",
      "\n",
      "    Nodes    |    Current Node    |     Objective Bounds      |     Work\n",
      " Expl Unexpl |  Obj  Depth IntInf | Incumbent    BestBd   Gap | It/Node Time\n",
      "\n",
      "     0     0     cutoff    0         2.00000    2.00000  0.00%     -    0s\n",
      "\n",
      "Explored 0 nodes (10 simplex iterations) in 0.01 seconds\n",
      "Thread count was 12 (of 12 available processors)\n",
      "\n",
      "Solution count 1: 2 \n",
      "\n",
      "Optimal solution found (tolerance 1.00e-04)\n",
      "Best objective 2.000000000000e+00, best bound 2.000000000000e+00, gap 0.0000%\n"
     ]
    }
   ],
   "source": [
    "model.optimize()"
   ]
  },
  {
   "cell_type": "markdown",
   "metadata": {},
   "source": [
    "And the transactions are:"
   ]
  },
  {
   "cell_type": "code",
   "execution_count": 415,
   "metadata": {},
   "outputs": [
    {
     "name": "stdout",
     "output_type": "stream",
     "text": [
      "N -> B sends 123.34000000000026\n",
      "A -> B sends 233.3199999999997\n"
     ]
    }
   ],
   "source": [
    "for i in P:\n",
    "    for j in P:\n",
    "        if f[i, j].x > 0.5:\n",
    "            print('{} -> {} sends {}'.format(i, j, k[i, j].x))"
   ]
  },
  {
   "cell_type": "markdown",
   "metadata": {},
   "source": [
    "The numbers are meaningful up to the precision value, hence:"
   ]
  },
  {
   "cell_type": "code",
   "execution_count": 416,
   "metadata": {},
   "outputs": [
    {
     "name": "stdout",
     "output_type": "stream",
     "text": [
      "N -> B posle 123.34\n",
      "A -> B posle 233.32\n"
     ]
    }
   ],
   "source": [
    "for i in P:\n",
    "    for j in P:\n",
    "        if f[i, j].x > 0.5:\n",
    "            print('{} -> {} posle {}'.format(i, j, round(k[i, j].x*100)/100))"
   ]
  },
  {
   "cell_type": "markdown",
   "metadata": {},
   "source": [
    "Huh, that was quite heavy for such a small change in the assignment :) This demonstrates how extremely important is to have really precise problem statement including domains of variables and parameters. "
   ]
  },
  {
   "cell_type": "markdown",
   "metadata": {},
   "source": [
    "**Alternative model, where we use negative flow values to denote who sends to who (now with just integer values :)).**"
   ]
  },
  {
   "cell_type": "code",
   "execution_count": 417,
   "metadata": {},
   "outputs": [],
   "source": [
    "P = ['A', 'B', 'N', 'J']  # now the persons will have an ordering\n",
    "c = [0, 590, 110, 300]\n",
    "s = sum(c)/len(c)"
   ]
  },
  {
   "cell_type": "code",
   "execution_count": 418,
   "metadata": {},
   "outputs": [],
   "source": [
    "model = g.Model()"
   ]
  },
  {
   "cell_type": "code",
   "execution_count": 419,
   "metadata": {},
   "outputs": [],
   "source": [
    "fp = {}\n",
    "fn = {}\n",
    "fz = {}\n",
    "k = {}\n",
    "for i in range(len(c)):\n",
    "    for j in range(i, len(c)):\n",
    "        fp[i, j] = model.addVar(vtype=g.GRB.BINARY, obj=1, ub=1 if i != j else 0)\n",
    "        fn[i, j] = model.addVar(vtype=g.GRB.BINARY, obj=1, ub=1 if i != j else 0)\n",
    "        fz[i, j] = model.addVar(vtype=g.GRB.BINARY, lb=0 if i != j else 1)\n",
    "        k[i, j] = model.addVar(vtype=g.GRB.INTEGER, lb=-float('inf'), name='k_{}{}'.format(P[i], P[j]))  # important! by default, Gurobi sets lower bounds to 0!"
   ]
  },
  {
   "cell_type": "markdown",
   "metadata": {},
   "source": [
    "The value of flow is either positive (or zero) or negative:"
   ]
  },
  {
   "cell_type": "code",
   "execution_count": 420,
   "metadata": {},
   "outputs": [],
   "source": [
    "M = sum(c)\n",
    "for i in range(len(c)):\n",
    "    for j in range(i, len(c)):\n",
    "        model.addConstr(fp[i, j] + fn[i, j] + fz[i, j] == 1)\n",
    "        model.addConstr(M*(1-fp[i, j]) + k[i, j] >= 1)\n",
    "        model.addConstr(-M*(1-fn[i, j]) + k[i, j] <= -1)\n",
    "        model.addConstr(M*(1-fz[i, j]) + k[i, j] >= 0)\n",
    "        model.addConstr(-M*(1-fz[i, j]) + k[i, j] <= 0)"
   ]
  },
  {
   "cell_type": "code",
   "execution_count": 421,
   "metadata": {},
   "outputs": [],
   "source": [
    "for i in range(len(c)):\n",
    "    model.addConstr(g.quicksum(k[i, j] if i < j else -k[j, i] for j in range(len(c))) == s - c[i], name='r{}'.format(P[i]))"
   ]
  },
  {
   "cell_type": "code",
   "execution_count": 422,
   "metadata": {},
   "outputs": [],
   "source": [
    "for i in range(len(c)):\n",
    "    for j in range(i, len(c)):\n",
    "        model.addConstr(M*fp[i, j] >= k[i, j])\n",
    "        model.addConstr(M*fn[i, j] >= -k[i, j])"
   ]
  },
  {
   "cell_type": "code",
   "execution_count": 423,
   "metadata": {},
   "outputs": [
    {
     "name": "stdout",
     "output_type": "stream",
     "text": [
      "Gurobi Optimizer version 9.0.0 build v9.0.0rc2 (mac64)\n",
      "Optimize a model with 74 rows, 40 columns and 166 nonzeros\n",
      "Model fingerprint: 0x8babaad1\n",
      "Variable types: 0 continuous, 40 integer (30 binary)\n",
      "Coefficient statistics:\n",
      "  Matrix range     [1e+00, 1e+03]\n",
      "  Objective range  [1e+00, 1e+00]\n",
      "  Bounds range     [1e+00, 1e+00]\n",
      "  RHS range        [1e+00, 1e+03]\n",
      "Found heuristic solution: objective 3.0000000\n",
      "Presolve removed 28 rows and 16 columns\n",
      "Presolve time: 0.00s\n",
      "Presolved: 46 rows, 24 columns, 102 nonzeros\n",
      "Variable types: 0 continuous, 24 integer (18 binary)\n",
      "\n",
      "Root relaxation: objective 3.903904e-01, 19 iterations, 0.00 seconds\n",
      "\n",
      "    Nodes    |    Current Node    |     Objective Bounds      |     Work\n",
      " Expl Unexpl |  Obj  Depth IntInf | Incumbent    BestBd   Gap | It/Node Time\n",
      "\n",
      "     0     0    0.39039    0    6    3.00000    0.39039  87.0%     -    0s\n",
      "\n",
      "Explored 1 nodes (19 simplex iterations) in 0.01 seconds\n",
      "Thread count was 12 (of 12 available processors)\n",
      "\n",
      "Solution count 1: 3 \n",
      "\n",
      "Optimal solution found (tolerance 1.00e-04)\n",
      "Best objective 3.000000000000e+00, best bound 3.000000000000e+00, gap 0.0000%\n"
     ]
    }
   ],
   "source": [
    "model.optimize()"
   ]
  },
  {
   "cell_type": "code",
   "execution_count": 425,
   "metadata": {},
   "outputs": [
    {
     "name": "stdout",
     "output_type": "stream",
     "text": [
      "A -> B sends 250.0\n",
      "B -> J sends -90.0\n",
      "N -> J sends 140.0\n"
     ]
    }
   ],
   "source": [
    "for i in range(len(c)):\n",
    "    for j in range(i, len(c)):\n",
    "        if fp[i, j].x > 0.5 or fn[i, j].x > 0.5:\n",
    "            print('{} -> {} sends {}'.format(P[i], P[j], k[i, j].x))"
   ]
  },
  {
   "cell_type": "markdown",
   "metadata": {},
   "source": [
    "Do you think that you can do the model with less binary variables? Try it as an exercise."
   ]
  },
  {
   "cell_type": "code",
   "execution_count": null,
   "metadata": {},
   "outputs": [],
   "source": []
  }
 ],
 "metadata": {
  "kernelspec": {
   "display_name": "Python 3",
   "language": "python",
   "name": "python3"
  },
  "language_info": {
   "codemirror_mode": {
    "name": "ipython",
    "version": 3
   },
   "file_extension": ".py",
   "mimetype": "text/x-python",
   "name": "python",
   "nbconvert_exporter": "python",
   "pygments_lexer": "ipython3",
   "version": "3.7.6"
  }
 },
 "nbformat": 4,
 "nbformat_minor": 4
}
