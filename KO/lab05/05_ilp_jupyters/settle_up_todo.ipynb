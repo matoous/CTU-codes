{
 "cells": [
  {
   "cell_type": "markdown",
   "metadata": {},
   "source": [
    "# Settle Up Problem (Dlužníček)\n",
    "\n",
    "## Motivation\n",
    "\n",
    "You went on a trip with a group of your friends. All of you shared some expenses, and now it is the time to settle all the debts. It is clear that everyone should pay the same amount; however, people are lazy, and so you want to find the solution which minimizes the number of transactions.\n",
    "\n",
    "## Input\n",
    "\n",
    "You are given the following:\n",
    "\n",
    "* A set of people $P$\n",
    "* For every person $i \\in P$ the cost $c_i$ (i.e., amount of money that $i$ payed)\n",
    "\n",
    "For the experiments, you may use the following instance:"
   ]
  },
  {
   "cell_type": "code",
   "execution_count": 1,
   "metadata": {},
   "outputs": [],
   "source": [
    "P = set([\"A\", \"B\", \"C\", \"D\"])\n",
    "c = {\"A\": 0, \"B\": 590, \"C\": 110, \"D\": 300}  # c_i is accessed by calling c[i]\n",
    "sv = sum(c.values())/len(c)  # the settlement value"
   ]
  },
  {
   "cell_type": "markdown",
   "metadata": {},
   "source": [
    "Number $sv$ (the settlement value) is the fair price that every person should pay."
   ]
  },
  {
   "cell_type": "markdown",
   "metadata": {},
   "source": [
    "## Output\n",
    "\n",
    "You should find a list of tuples $(x_k, y_k, z_k)$ representing the transactions: person $x_k$ should pay person $y_k$ z_k euros. The number of transactions (i.e., the length of the list) should be minimized.\n",
    "\n",
    "For the given instance, the **optimal solution** consists of 3 transactions, namely\n",
    "\n",
    "```\n",
    "A -> B: 250.0\n",
    "C -> D: 50.0\n",
    "C -> B: 90.0\n",
    "```"
   ]
  },
  {
   "cell_type": "markdown",
   "metadata": {},
   "source": [
    "## Exercise\n",
    "\n",
    "Implement the ILP model of the problem. You can assume that the settlement value is int (or was rounded)."
   ]
  },
  {
   "cell_type": "code",
   "execution_count": 2,
   "metadata": {},
   "outputs": [
    {
     "name": "stdout",
     "output_type": "stream",
     "text": [
      "Academic license - for non-commercial use only\n",
      "Optimize a model with 0 rows, 0 columns and 0 nonzeros\n",
      "Coefficient statistics:\n",
      "  Matrix range     [0e+00, 0e+00]\n",
      "  Objective range  [0e+00, 0e+00]\n",
      "  Bounds range     [0e+00, 0e+00]\n",
      "  RHS range        [0e+00, 0e+00]\n",
      "Presolve time: 0.00s\n",
      "Presolve: All rows and columns removed\n",
      "Iteration    Objective       Primal Inf.    Dual Inf.      Time\n",
      "       0    0.0000000e+00   0.000000e+00   0.000000e+00      0s\n",
      "\n",
      "Solved in 0 iterations and 0.01 seconds\n",
      "Optimal objective  0.000000000e+00\n",
      "\n",
      "SOLUTION:\n"
     ]
    }
   ],
   "source": [
    "import gurobipy as g  # import Gurobi module\n",
    "\n",
    "\n",
    "# model --------------------------------------------------\n",
    "m = g.Model()\n",
    "\n",
    "# - ADD VARIABLES\n",
    "ex = {}\n",
    "for p1 in P:\n",
    "    ex[p1] = {}\n",
    "    for p2 in P:\n",
    "        ex[p1][p2] = m.addVar(lb=0, vtype=g.GRB.INTEGER, name=f'ex{p1}{p2}')\n",
    "\n",
    "# - ADD CONSTRAINTS\n",
    "for p in P:\n",
    "    m.addConstr(c[p] - g.quicksum(ex[p1]))\n",
    "\n",
    "# - SET OBJECTIVE\n",
    "# TODO\n",
    "\n",
    "# call the solver -------------------------------------------\n",
    "m.optimize()\n",
    "\n",
    "# print the solution -----------------------------------------\n",
    "print('\\nSOLUTION:')\n",
    "# TODO"
   ]
  },
  {
   "cell_type": "markdown",
   "metadata": {},
   "source": [
    "## Additional experiments\n",
    "\n",
    "* experiment with different values of the 'big M' constant\n",
    "* try to generalize the model to work even with float sv (e.g., rounded to 0.01)\n",
    "\n",
    "More comments can be found in `settle_up_models.ipynb.zip` from the Lab 3.\n",
    " "
   ]
  },
  {
   "cell_type": "code",
   "execution_count": null,
   "metadata": {},
   "outputs": [],
   "source": []
  }
 ],
 "metadata": {
  "kernelspec": {
   "display_name": "Python 3",
   "language": "python",
   "name": "python3"
  },
  "language_info": {
   "codemirror_mode": {
    "name": "ipython",
    "version": 3
   },
   "file_extension": ".py",
   "mimetype": "text/x-python",
   "name": "python",
   "nbconvert_exporter": "python",
   "pygments_lexer": "ipython3",
   "version": "3.7.4"
  },
  "pycharm": {
   "stem_cell": {
    "cell_type": "raw",
    "source": [],
    "metadata": {
     "collapsed": false
    }
   }
  }
 },
 "nbformat": 4,
 "nbformat_minor": 4
}